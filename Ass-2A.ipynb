{
 "cells": [
  {
   "cell_type": "code",
   "execution_count": 1,
   "metadata": {
    "id": "Rsw3mXFxKqtD"
   },
   "outputs": [],
   "source": [
    " import pandas as pd"
   ]
  },
  {
   "cell_type": "code",
   "execution_count": 2,
   "metadata": {
    "id": "nLGisGwoKwjM"
   },
   "outputs": [],
   "source": [
    "df=pd.read_csv(\"D:\\StudentPerformance - Sheet1.csv\")"
   ]
  },
  {
   "cell_type": "code",
   "execution_count": 3,
   "metadata": {
    "id": "YMWX-ZZUPtqF"
   },
   "outputs": [],
   "source": [
    "df1=df\n",
    "df2=df1\n",
    "df3=df\n",
    "df4=df"
   ]
  },
  {
   "cell_type": "code",
   "execution_count": 4,
   "metadata": {
    "colab": {
     "base_uri": "https://localhost:8080/",
     "height": 520
    },
    "id": "1F5Ne-e_QAjx",
    "outputId": "7717420e-209b-4525-e1d3-ac0f10848c08"
   },
   "outputs": [
    {
     "data": {
      "text/html": [
       "<div>\n",
       "<style scoped>\n",
       "    .dataframe tbody tr th:only-of-type {\n",
       "        vertical-align: middle;\n",
       "    }\n",
       "\n",
       "    .dataframe tbody tr th {\n",
       "        vertical-align: top;\n",
       "    }\n",
       "\n",
       "    .dataframe thead th {\n",
       "        text-align: right;\n",
       "    }\n",
       "</style>\n",
       "<table border=\"1\" class=\"dataframe\">\n",
       "  <thead>\n",
       "    <tr style=\"text-align: right;\">\n",
       "      <th></th>\n",
       "      <th>gender</th>\n",
       "      <th>math score</th>\n",
       "      <th>reading score</th>\n",
       "      <th>writing score</th>\n",
       "      <th>placement score</th>\n",
       "      <th>club join year</th>\n",
       "      <th>placement offer count</th>\n",
       "    </tr>\n",
       "  </thead>\n",
       "  <tbody>\n",
       "    <tr>\n",
       "      <th>0</th>\n",
       "      <td>M</td>\n",
       "      <td>65</td>\n",
       "      <td>62.0</td>\n",
       "      <td>60</td>\n",
       "      <td>66.0</td>\n",
       "      <td>2018.0</td>\n",
       "      <td>1</td>\n",
       "    </tr>\n",
       "    <tr>\n",
       "      <th>1</th>\n",
       "      <td>F</td>\n",
       "      <td>62</td>\n",
       "      <td>78.0</td>\n",
       "      <td>71</td>\n",
       "      <td>65.0</td>\n",
       "      <td>2018.0</td>\n",
       "      <td>1</td>\n",
       "    </tr>\n",
       "    <tr>\n",
       "      <th>2</th>\n",
       "      <td>M</td>\n",
       "      <td>64</td>\n",
       "      <td>60.0</td>\n",
       "      <td>70</td>\n",
       "      <td>68.0</td>\n",
       "      <td>2020.0</td>\n",
       "      <td>1</td>\n",
       "    </tr>\n",
       "    <tr>\n",
       "      <th>3</th>\n",
       "      <td>F</td>\n",
       "      <td>67</td>\n",
       "      <td>69.0</td>\n",
       "      <td>74</td>\n",
       "      <td>65.0</td>\n",
       "      <td>2021.0</td>\n",
       "      <td>1</td>\n",
       "    </tr>\n",
       "    <tr>\n",
       "      <th>4</th>\n",
       "      <td>M</td>\n",
       "      <td>68</td>\n",
       "      <td>76.0</td>\n",
       "      <td>69</td>\n",
       "      <td>70.0</td>\n",
       "      <td>2019.0</td>\n",
       "      <td>1</td>\n",
       "    </tr>\n",
       "    <tr>\n",
       "      <th>5</th>\n",
       "      <td>F</td>\n",
       "      <td>90</td>\n",
       "      <td>65.0</td>\n",
       "      <td>77</td>\n",
       "      <td>76.0</td>\n",
       "      <td>2020.0</td>\n",
       "      <td>2</td>\n",
       "    </tr>\n",
       "    <tr>\n",
       "      <th>6</th>\n",
       "      <td>M</td>\n",
       "      <td>79</td>\n",
       "      <td>62.0</td>\n",
       "      <td>80</td>\n",
       "      <td>67.0</td>\n",
       "      <td>2021.0</td>\n",
       "      <td>1</td>\n",
       "    </tr>\n",
       "    <tr>\n",
       "      <th>7</th>\n",
       "      <td>F</td>\n",
       "      <td>75</td>\n",
       "      <td>72.0</td>\n",
       "      <td>72</td>\n",
       "      <td>65.0</td>\n",
       "      <td>2021.0</td>\n",
       "      <td>1</td>\n",
       "    </tr>\n",
       "    <tr>\n",
       "      <th>8</th>\n",
       "      <td>M</td>\n",
       "      <td>61</td>\n",
       "      <td>74.0</td>\n",
       "      <td>70</td>\n",
       "      <td>69.0</td>\n",
       "      <td>2018.0</td>\n",
       "      <td>1</td>\n",
       "    </tr>\n",
       "    <tr>\n",
       "      <th>9</th>\n",
       "      <td>F</td>\n",
       "      <td>73</td>\n",
       "      <td>68.0</td>\n",
       "      <td>92</td>\n",
       "      <td>63.0</td>\n",
       "      <td>2018.0</td>\n",
       "      <td>1</td>\n",
       "    </tr>\n",
       "    <tr>\n",
       "      <th>10</th>\n",
       "      <td>M</td>\n",
       "      <td>74</td>\n",
       "      <td>64.0</td>\n",
       "      <td>70</td>\n",
       "      <td>60.0</td>\n",
       "      <td>2020.0</td>\n",
       "      <td>1</td>\n",
       "    </tr>\n",
       "    <tr>\n",
       "      <th>11</th>\n",
       "      <td>F</td>\n",
       "      <td>75</td>\n",
       "      <td>67.0</td>\n",
       "      <td>80</td>\n",
       "      <td>65.0</td>\n",
       "      <td>2020.0</td>\n",
       "      <td>1</td>\n",
       "    </tr>\n",
       "    <tr>\n",
       "      <th>12</th>\n",
       "      <td>M</td>\n",
       "      <td>65</td>\n",
       "      <td>77.0</td>\n",
       "      <td>77</td>\n",
       "      <td>77.0</td>\n",
       "      <td>2019.0</td>\n",
       "      <td>2</td>\n",
       "    </tr>\n",
       "    <tr>\n",
       "      <th>13</th>\n",
       "      <td>M</td>\n",
       "      <td>70</td>\n",
       "      <td>63.0</td>\n",
       "      <td>77</td>\n",
       "      <td>79.0</td>\n",
       "      <td>2018.0</td>\n",
       "      <td>2</td>\n",
       "    </tr>\n",
       "    <tr>\n",
       "      <th>14</th>\n",
       "      <td>M</td>\n",
       "      <td>60</td>\n",
       "      <td>NaN</td>\n",
       "      <td>79</td>\n",
       "      <td>77.0</td>\n",
       "      <td>2018.0</td>\n",
       "      <td>2</td>\n",
       "    </tr>\n",
       "    <tr>\n",
       "      <th>15</th>\n",
       "      <td>F</td>\n",
       "      <td>70</td>\n",
       "      <td>76.0</td>\n",
       "      <td>66</td>\n",
       "      <td>98.0</td>\n",
       "      <td>2019.0</td>\n",
       "      <td>3</td>\n",
       "    </tr>\n",
       "    <tr>\n",
       "      <th>16</th>\n",
       "      <td>F</td>\n",
       "      <td>63</td>\n",
       "      <td>72.0</td>\n",
       "      <td>63</td>\n",
       "      <td>62.0</td>\n",
       "      <td>2021.0</td>\n",
       "      <td>1</td>\n",
       "    </tr>\n",
       "    <tr>\n",
       "      <th>17</th>\n",
       "      <td>F</td>\n",
       "      <td>66</td>\n",
       "      <td>77.0</td>\n",
       "      <td>67</td>\n",
       "      <td>78.0</td>\n",
       "      <td>NaN</td>\n",
       "      <td>2</td>\n",
       "    </tr>\n",
       "    <tr>\n",
       "      <th>18</th>\n",
       "      <td>F</td>\n",
       "      <td>94</td>\n",
       "      <td>75.0</td>\n",
       "      <td>67</td>\n",
       "      <td>66.0</td>\n",
       "      <td>2021.0</td>\n",
       "      <td>1</td>\n",
       "    </tr>\n",
       "    <tr>\n",
       "      <th>19</th>\n",
       "      <td>M</td>\n",
       "      <td>62</td>\n",
       "      <td>79.0</td>\n",
       "      <td>68</td>\n",
       "      <td>60.0</td>\n",
       "      <td>2020.0</td>\n",
       "      <td>1</td>\n",
       "    </tr>\n",
       "    <tr>\n",
       "      <th>20</th>\n",
       "      <td>F</td>\n",
       "      <td>67</td>\n",
       "      <td>62.0</td>\n",
       "      <td>64</td>\n",
       "      <td>61.0</td>\n",
       "      <td>2020.0</td>\n",
       "      <td>1</td>\n",
       "    </tr>\n",
       "    <tr>\n",
       "      <th>21</th>\n",
       "      <td>M</td>\n",
       "      <td>64</td>\n",
       "      <td>95.0</td>\n",
       "      <td>72</td>\n",
       "      <td>NaN</td>\n",
       "      <td>2019.0</td>\n",
       "      <td>1</td>\n",
       "    </tr>\n",
       "    <tr>\n",
       "      <th>22</th>\n",
       "      <td>F</td>\n",
       "      <td>61</td>\n",
       "      <td>70.0</td>\n",
       "      <td>96</td>\n",
       "      <td>72.0</td>\n",
       "      <td>2018.0</td>\n",
       "      <td>1</td>\n",
       "    </tr>\n",
       "    <tr>\n",
       "      <th>23</th>\n",
       "      <td>M</td>\n",
       "      <td>74</td>\n",
       "      <td>74.0</td>\n",
       "      <td>75</td>\n",
       "      <td>68.0</td>\n",
       "      <td>2019.0</td>\n",
       "      <td>1</td>\n",
       "    </tr>\n",
       "    <tr>\n",
       "      <th>24</th>\n",
       "      <td>F</td>\n",
       "      <td>79</td>\n",
       "      <td>68.0</td>\n",
       "      <td>75</td>\n",
       "      <td>67.0</td>\n",
       "      <td>2020.0</td>\n",
       "      <td>1</td>\n",
       "    </tr>\n",
       "    <tr>\n",
       "      <th>25</th>\n",
       "      <td>M</td>\n",
       "      <td>62</td>\n",
       "      <td>75.0</td>\n",
       "      <td>60</td>\n",
       "      <td>69.0</td>\n",
       "      <td>2019.0</td>\n",
       "      <td>1</td>\n",
       "    </tr>\n",
       "    <tr>\n",
       "      <th>26</th>\n",
       "      <td>F</td>\n",
       "      <td>67</td>\n",
       "      <td>71.0</td>\n",
       "      <td>72</td>\n",
       "      <td>64.0</td>\n",
       "      <td>2021.0</td>\n",
       "      <td>1</td>\n",
       "    </tr>\n",
       "    <tr>\n",
       "      <th>27</th>\n",
       "      <td>M</td>\n",
       "      <td>68</td>\n",
       "      <td>78.0</td>\n",
       "      <td>64</td>\n",
       "      <td>77.0</td>\n",
       "      <td>2018.0</td>\n",
       "      <td>2</td>\n",
       "    </tr>\n",
       "    <tr>\n",
       "      <th>28</th>\n",
       "      <td>F</td>\n",
       "      <td>72</td>\n",
       "      <td>62.0</td>\n",
       "      <td>77</td>\n",
       "      <td>69.0</td>\n",
       "      <td>2018.0</td>\n",
       "      <td>1</td>\n",
       "    </tr>\n",
       "  </tbody>\n",
       "</table>\n",
       "</div>"
      ],
      "text/plain": [
       "   gender  math score  reading score  writing score  placement score  \\\n",
       "0       M          65           62.0             60             66.0   \n",
       "1       F          62           78.0             71             65.0   \n",
       "2       M          64           60.0             70             68.0   \n",
       "3       F          67           69.0             74             65.0   \n",
       "4       M          68           76.0             69             70.0   \n",
       "5       F          90           65.0             77             76.0   \n",
       "6       M          79           62.0             80             67.0   \n",
       "7       F          75           72.0             72             65.0   \n",
       "8       M          61           74.0             70             69.0   \n",
       "9       F          73           68.0             92             63.0   \n",
       "10      M          74           64.0             70             60.0   \n",
       "11      F          75           67.0             80             65.0   \n",
       "12      M          65           77.0             77             77.0   \n",
       "13      M          70           63.0             77             79.0   \n",
       "14      M          60            NaN             79             77.0   \n",
       "15      F          70           76.0             66             98.0   \n",
       "16      F          63           72.0             63             62.0   \n",
       "17      F          66           77.0             67             78.0   \n",
       "18      F          94           75.0             67             66.0   \n",
       "19      M          62           79.0             68             60.0   \n",
       "20      F          67           62.0             64             61.0   \n",
       "21      M          64           95.0             72              NaN   \n",
       "22      F          61           70.0             96             72.0   \n",
       "23      M          74           74.0             75             68.0   \n",
       "24      F          79           68.0             75             67.0   \n",
       "25      M          62           75.0             60             69.0   \n",
       "26      F          67           71.0             72             64.0   \n",
       "27      M          68           78.0             64             77.0   \n",
       "28      F          72           62.0             77             69.0   \n",
       "\n",
       "    club join year  placement offer count  \n",
       "0           2018.0                      1  \n",
       "1           2018.0                      1  \n",
       "2           2020.0                      1  \n",
       "3           2021.0                      1  \n",
       "4           2019.0                      1  \n",
       "5           2020.0                      2  \n",
       "6           2021.0                      1  \n",
       "7           2021.0                      1  \n",
       "8           2018.0                      1  \n",
       "9           2018.0                      1  \n",
       "10          2020.0                      1  \n",
       "11          2020.0                      1  \n",
       "12          2019.0                      2  \n",
       "13          2018.0                      2  \n",
       "14          2018.0                      2  \n",
       "15          2019.0                      3  \n",
       "16          2021.0                      1  \n",
       "17             NaN                      2  \n",
       "18          2021.0                      1  \n",
       "19          2020.0                      1  \n",
       "20          2020.0                      1  \n",
       "21          2019.0                      1  \n",
       "22          2018.0                      1  \n",
       "23          2019.0                      1  \n",
       "24          2020.0                      1  \n",
       "25          2019.0                      1  \n",
       "26          2021.0                      1  \n",
       "27          2018.0                      2  \n",
       "28          2018.0                      1  "
      ]
     },
     "execution_count": 4,
     "metadata": {},
     "output_type": "execute_result"
    }
   ],
   "source": [
    "df"
   ]
  },
  {
   "cell_type": "code",
   "execution_count": 5,
   "metadata": {
    "colab": {
     "base_uri": "https://localhost:8080/",
     "height": 520
    },
    "id": "oAEnpZhTQDgk",
    "outputId": "7f48efdb-d4fb-4007-af21-e1d3b5540e74"
   },
   "outputs": [
    {
     "data": {
      "text/html": [
       "<div>\n",
       "<style scoped>\n",
       "    .dataframe tbody tr th:only-of-type {\n",
       "        vertical-align: middle;\n",
       "    }\n",
       "\n",
       "    .dataframe tbody tr th {\n",
       "        vertical-align: top;\n",
       "    }\n",
       "\n",
       "    .dataframe thead th {\n",
       "        text-align: right;\n",
       "    }\n",
       "</style>\n",
       "<table border=\"1\" class=\"dataframe\">\n",
       "  <thead>\n",
       "    <tr style=\"text-align: right;\">\n",
       "      <th></th>\n",
       "      <th>gender</th>\n",
       "      <th>math score</th>\n",
       "      <th>reading score</th>\n",
       "      <th>writing score</th>\n",
       "      <th>placement score</th>\n",
       "      <th>club join year</th>\n",
       "      <th>placement offer count</th>\n",
       "    </tr>\n",
       "  </thead>\n",
       "  <tbody>\n",
       "    <tr>\n",
       "      <th>0</th>\n",
       "      <td>False</td>\n",
       "      <td>False</td>\n",
       "      <td>False</td>\n",
       "      <td>False</td>\n",
       "      <td>False</td>\n",
       "      <td>False</td>\n",
       "      <td>False</td>\n",
       "    </tr>\n",
       "    <tr>\n",
       "      <th>1</th>\n",
       "      <td>False</td>\n",
       "      <td>False</td>\n",
       "      <td>False</td>\n",
       "      <td>False</td>\n",
       "      <td>False</td>\n",
       "      <td>False</td>\n",
       "      <td>False</td>\n",
       "    </tr>\n",
       "    <tr>\n",
       "      <th>2</th>\n",
       "      <td>False</td>\n",
       "      <td>False</td>\n",
       "      <td>False</td>\n",
       "      <td>False</td>\n",
       "      <td>False</td>\n",
       "      <td>False</td>\n",
       "      <td>False</td>\n",
       "    </tr>\n",
       "    <tr>\n",
       "      <th>3</th>\n",
       "      <td>False</td>\n",
       "      <td>False</td>\n",
       "      <td>False</td>\n",
       "      <td>False</td>\n",
       "      <td>False</td>\n",
       "      <td>False</td>\n",
       "      <td>False</td>\n",
       "    </tr>\n",
       "    <tr>\n",
       "      <th>4</th>\n",
       "      <td>False</td>\n",
       "      <td>False</td>\n",
       "      <td>False</td>\n",
       "      <td>False</td>\n",
       "      <td>False</td>\n",
       "      <td>False</td>\n",
       "      <td>False</td>\n",
       "    </tr>\n",
       "    <tr>\n",
       "      <th>5</th>\n",
       "      <td>False</td>\n",
       "      <td>False</td>\n",
       "      <td>False</td>\n",
       "      <td>False</td>\n",
       "      <td>False</td>\n",
       "      <td>False</td>\n",
       "      <td>False</td>\n",
       "    </tr>\n",
       "    <tr>\n",
       "      <th>6</th>\n",
       "      <td>False</td>\n",
       "      <td>False</td>\n",
       "      <td>False</td>\n",
       "      <td>False</td>\n",
       "      <td>False</td>\n",
       "      <td>False</td>\n",
       "      <td>False</td>\n",
       "    </tr>\n",
       "    <tr>\n",
       "      <th>7</th>\n",
       "      <td>False</td>\n",
       "      <td>False</td>\n",
       "      <td>False</td>\n",
       "      <td>False</td>\n",
       "      <td>False</td>\n",
       "      <td>False</td>\n",
       "      <td>False</td>\n",
       "    </tr>\n",
       "    <tr>\n",
       "      <th>8</th>\n",
       "      <td>False</td>\n",
       "      <td>False</td>\n",
       "      <td>False</td>\n",
       "      <td>False</td>\n",
       "      <td>False</td>\n",
       "      <td>False</td>\n",
       "      <td>False</td>\n",
       "    </tr>\n",
       "    <tr>\n",
       "      <th>9</th>\n",
       "      <td>False</td>\n",
       "      <td>False</td>\n",
       "      <td>False</td>\n",
       "      <td>False</td>\n",
       "      <td>False</td>\n",
       "      <td>False</td>\n",
       "      <td>False</td>\n",
       "    </tr>\n",
       "    <tr>\n",
       "      <th>10</th>\n",
       "      <td>False</td>\n",
       "      <td>False</td>\n",
       "      <td>False</td>\n",
       "      <td>False</td>\n",
       "      <td>False</td>\n",
       "      <td>False</td>\n",
       "      <td>False</td>\n",
       "    </tr>\n",
       "    <tr>\n",
       "      <th>11</th>\n",
       "      <td>False</td>\n",
       "      <td>False</td>\n",
       "      <td>False</td>\n",
       "      <td>False</td>\n",
       "      <td>False</td>\n",
       "      <td>False</td>\n",
       "      <td>False</td>\n",
       "    </tr>\n",
       "    <tr>\n",
       "      <th>12</th>\n",
       "      <td>False</td>\n",
       "      <td>False</td>\n",
       "      <td>False</td>\n",
       "      <td>False</td>\n",
       "      <td>False</td>\n",
       "      <td>False</td>\n",
       "      <td>False</td>\n",
       "    </tr>\n",
       "    <tr>\n",
       "      <th>13</th>\n",
       "      <td>False</td>\n",
       "      <td>False</td>\n",
       "      <td>False</td>\n",
       "      <td>False</td>\n",
       "      <td>False</td>\n",
       "      <td>False</td>\n",
       "      <td>False</td>\n",
       "    </tr>\n",
       "    <tr>\n",
       "      <th>14</th>\n",
       "      <td>False</td>\n",
       "      <td>False</td>\n",
       "      <td>True</td>\n",
       "      <td>False</td>\n",
       "      <td>False</td>\n",
       "      <td>False</td>\n",
       "      <td>False</td>\n",
       "    </tr>\n",
       "    <tr>\n",
       "      <th>15</th>\n",
       "      <td>False</td>\n",
       "      <td>False</td>\n",
       "      <td>False</td>\n",
       "      <td>False</td>\n",
       "      <td>False</td>\n",
       "      <td>False</td>\n",
       "      <td>False</td>\n",
       "    </tr>\n",
       "    <tr>\n",
       "      <th>16</th>\n",
       "      <td>False</td>\n",
       "      <td>False</td>\n",
       "      <td>False</td>\n",
       "      <td>False</td>\n",
       "      <td>False</td>\n",
       "      <td>False</td>\n",
       "      <td>False</td>\n",
       "    </tr>\n",
       "    <tr>\n",
       "      <th>17</th>\n",
       "      <td>False</td>\n",
       "      <td>False</td>\n",
       "      <td>False</td>\n",
       "      <td>False</td>\n",
       "      <td>False</td>\n",
       "      <td>True</td>\n",
       "      <td>False</td>\n",
       "    </tr>\n",
       "    <tr>\n",
       "      <th>18</th>\n",
       "      <td>False</td>\n",
       "      <td>False</td>\n",
       "      <td>False</td>\n",
       "      <td>False</td>\n",
       "      <td>False</td>\n",
       "      <td>False</td>\n",
       "      <td>False</td>\n",
       "    </tr>\n",
       "    <tr>\n",
       "      <th>19</th>\n",
       "      <td>False</td>\n",
       "      <td>False</td>\n",
       "      <td>False</td>\n",
       "      <td>False</td>\n",
       "      <td>False</td>\n",
       "      <td>False</td>\n",
       "      <td>False</td>\n",
       "    </tr>\n",
       "    <tr>\n",
       "      <th>20</th>\n",
       "      <td>False</td>\n",
       "      <td>False</td>\n",
       "      <td>False</td>\n",
       "      <td>False</td>\n",
       "      <td>False</td>\n",
       "      <td>False</td>\n",
       "      <td>False</td>\n",
       "    </tr>\n",
       "    <tr>\n",
       "      <th>21</th>\n",
       "      <td>False</td>\n",
       "      <td>False</td>\n",
       "      <td>False</td>\n",
       "      <td>False</td>\n",
       "      <td>True</td>\n",
       "      <td>False</td>\n",
       "      <td>False</td>\n",
       "    </tr>\n",
       "    <tr>\n",
       "      <th>22</th>\n",
       "      <td>False</td>\n",
       "      <td>False</td>\n",
       "      <td>False</td>\n",
       "      <td>False</td>\n",
       "      <td>False</td>\n",
       "      <td>False</td>\n",
       "      <td>False</td>\n",
       "    </tr>\n",
       "    <tr>\n",
       "      <th>23</th>\n",
       "      <td>False</td>\n",
       "      <td>False</td>\n",
       "      <td>False</td>\n",
       "      <td>False</td>\n",
       "      <td>False</td>\n",
       "      <td>False</td>\n",
       "      <td>False</td>\n",
       "    </tr>\n",
       "    <tr>\n",
       "      <th>24</th>\n",
       "      <td>False</td>\n",
       "      <td>False</td>\n",
       "      <td>False</td>\n",
       "      <td>False</td>\n",
       "      <td>False</td>\n",
       "      <td>False</td>\n",
       "      <td>False</td>\n",
       "    </tr>\n",
       "    <tr>\n",
       "      <th>25</th>\n",
       "      <td>False</td>\n",
       "      <td>False</td>\n",
       "      <td>False</td>\n",
       "      <td>False</td>\n",
       "      <td>False</td>\n",
       "      <td>False</td>\n",
       "      <td>False</td>\n",
       "    </tr>\n",
       "    <tr>\n",
       "      <th>26</th>\n",
       "      <td>False</td>\n",
       "      <td>False</td>\n",
       "      <td>False</td>\n",
       "      <td>False</td>\n",
       "      <td>False</td>\n",
       "      <td>False</td>\n",
       "      <td>False</td>\n",
       "    </tr>\n",
       "    <tr>\n",
       "      <th>27</th>\n",
       "      <td>False</td>\n",
       "      <td>False</td>\n",
       "      <td>False</td>\n",
       "      <td>False</td>\n",
       "      <td>False</td>\n",
       "      <td>False</td>\n",
       "      <td>False</td>\n",
       "    </tr>\n",
       "    <tr>\n",
       "      <th>28</th>\n",
       "      <td>False</td>\n",
       "      <td>False</td>\n",
       "      <td>False</td>\n",
       "      <td>False</td>\n",
       "      <td>False</td>\n",
       "      <td>False</td>\n",
       "      <td>False</td>\n",
       "    </tr>\n",
       "  </tbody>\n",
       "</table>\n",
       "</div>"
      ],
      "text/plain": [
       "    gender  math score  reading score  writing score  placement score  \\\n",
       "0    False       False          False          False            False   \n",
       "1    False       False          False          False            False   \n",
       "2    False       False          False          False            False   \n",
       "3    False       False          False          False            False   \n",
       "4    False       False          False          False            False   \n",
       "5    False       False          False          False            False   \n",
       "6    False       False          False          False            False   \n",
       "7    False       False          False          False            False   \n",
       "8    False       False          False          False            False   \n",
       "9    False       False          False          False            False   \n",
       "10   False       False          False          False            False   \n",
       "11   False       False          False          False            False   \n",
       "12   False       False          False          False            False   \n",
       "13   False       False          False          False            False   \n",
       "14   False       False           True          False            False   \n",
       "15   False       False          False          False            False   \n",
       "16   False       False          False          False            False   \n",
       "17   False       False          False          False            False   \n",
       "18   False       False          False          False            False   \n",
       "19   False       False          False          False            False   \n",
       "20   False       False          False          False            False   \n",
       "21   False       False          False          False             True   \n",
       "22   False       False          False          False            False   \n",
       "23   False       False          False          False            False   \n",
       "24   False       False          False          False            False   \n",
       "25   False       False          False          False            False   \n",
       "26   False       False          False          False            False   \n",
       "27   False       False          False          False            False   \n",
       "28   False       False          False          False            False   \n",
       "\n",
       "    club join year  placement offer count  \n",
       "0            False                  False  \n",
       "1            False                  False  \n",
       "2            False                  False  \n",
       "3            False                  False  \n",
       "4            False                  False  \n",
       "5            False                  False  \n",
       "6            False                  False  \n",
       "7            False                  False  \n",
       "8            False                  False  \n",
       "9            False                  False  \n",
       "10           False                  False  \n",
       "11           False                  False  \n",
       "12           False                  False  \n",
       "13           False                  False  \n",
       "14           False                  False  \n",
       "15           False                  False  \n",
       "16           False                  False  \n",
       "17            True                  False  \n",
       "18           False                  False  \n",
       "19           False                  False  \n",
       "20           False                  False  \n",
       "21           False                  False  \n",
       "22           False                  False  \n",
       "23           False                  False  \n",
       "24           False                  False  \n",
       "25           False                  False  \n",
       "26           False                  False  \n",
       "27           False                  False  \n",
       "28           False                  False  "
      ]
     },
     "execution_count": 5,
     "metadata": {},
     "output_type": "execute_result"
    }
   ],
   "source": [
    "df.isnull()"
   ]
  },
  {
   "cell_type": "code",
   "execution_count": 6,
   "metadata": {
    "colab": {
     "base_uri": "https://localhost:8080/"
    },
    "id": "kbyly0q4QJk8",
    "outputId": "c3678d77-4432-464c-c297-35b0510eec0d"
   },
   "outputs": [
    {
     "data": {
      "text/plain": [
       "gender                   0\n",
       "math score               0\n",
       "reading score            1\n",
       "writing score            0\n",
       "placement score          1\n",
       "club join year           1\n",
       "placement offer count    0\n",
       "dtype: int64"
      ]
     },
     "execution_count": 6,
     "metadata": {},
     "output_type": "execute_result"
    }
   ],
   "source": [
    "df.isnull().sum()"
   ]
  },
  {
   "cell_type": "code",
   "execution_count": 7,
   "metadata": {
    "colab": {
     "base_uri": "https://localhost:8080/"
    },
    "id": "i0DM-QMRQQtV",
    "outputId": "09df87b8-e4b1-4133-8fa1-bc478a438119"
   },
   "outputs": [
    {
     "data": {
      "text/plain": [
       "Index(['gender', 'math score', 'reading score', 'writing score',\n",
       "       'placement score', 'club join year', 'placement offer count'],\n",
       "      dtype='object')"
      ]
     },
     "execution_count": 7,
     "metadata": {},
     "output_type": "execute_result"
    }
   ],
   "source": [
    "df.columns"
   ]
  },
  {
   "cell_type": "code",
   "execution_count": 8,
   "metadata": {
    "colab": {
     "base_uri": "https://localhost:8080/"
    },
    "id": "sXr4SAxeQVc8",
    "outputId": "0006b3a8-96a3-48e1-8e6f-91d7f4d56f4d"
   },
   "outputs": [
    {
     "data": {
      "text/plain": [
       "gender                   False\n",
       "math score               False\n",
       "reading score             True\n",
       "writing score            False\n",
       "placement score           True\n",
       "club join year            True\n",
       "placement offer count    False\n",
       "dtype: bool"
      ]
     },
     "execution_count": 8,
     "metadata": {},
     "output_type": "execute_result"
    }
   ],
   "source": [
    "df.isnull().any()"
   ]
  },
  {
   "cell_type": "code",
   "execution_count": 10,
   "metadata": {
    "colab": {
     "base_uri": "https://localhost:8080/"
    },
    "id": "JqqKhgOgQc-k",
    "outputId": "cbc3ba03-dc86-485d-aa9a-9c98942b0b17"
   },
   "outputs": [
    {
     "data": {
      "text/plain": [
       "0"
      ]
     },
     "execution_count": 10,
     "metadata": {},
     "output_type": "execute_result"
    }
   ],
   "source": [
    "pd.isnull(df[\"math score\"]) .sum()"
   ]
  },
  {
   "cell_type": "code",
   "execution_count": null,
   "metadata": {
    "colab": {
     "base_uri": "https://localhost:8080/",
     "height": 520
    },
    "id": "9F-jzb4eQow8",
    "outputId": "fb581962-6a72-4cf7-faaf-6033a336125d"
   },
   "outputs": [],
   "source": [
    "df.notnull()"
   ]
  },
  {
   "cell_type": "code",
   "execution_count": null,
   "metadata": {
    "colab": {
     "base_uri": "https://localhost:8080/",
     "height": 520
    },
    "id": "zTMQsHmzRVt2",
    "outputId": "ce0a50cb-b74d-466a-80f9-ab02964b2a1b"
   },
   "outputs": [],
   "source": [
    "df.notnull()"
   ]
  },
  {
   "cell_type": "code",
   "execution_count": null,
   "metadata": {
    "colab": {
     "base_uri": "https://localhost:8080/"
    },
    "id": "CO_jPoAmRsLV",
    "outputId": "689c7038-f63a-416b-cac8-9c791028cc63"
   },
   "outputs": [],
   "source": [
    "df.notnull().sum()"
   ]
  },
  {
   "cell_type": "code",
   "execution_count": null,
   "metadata": {
    "id": "B61XlsJ5SiTd"
   },
   "outputs": [],
   "source": [
    "df.head()\n",
    "df1=df"
   ]
  },
  {
   "cell_type": "code",
   "execution_count": null,
   "metadata": {
    "id": "K02zkvOmWfsg"
   },
   "outputs": [],
   "source": [
    "from sklearn import preprocessing\n",
    "le=preprocessing.LabelEncoder()"
   ]
  },
  {
   "cell_type": "code",
   "execution_count": null,
   "metadata": {
    "colab": {
     "base_uri": "https://localhost:8080/",
     "height": 520
    },
    "id": "hEKjJbyUYjPw",
    "outputId": "2b5ce9f4-f058-4b0a-c482-77b5bd6cda45"
   },
   "outputs": [],
   "source": [
    "df['Gender']=le.fit_transform(df['Gender'])\n",
    "df"
   ]
  },
  {
   "cell_type": "code",
   "execution_count": null,
   "metadata": {
    "colab": {
     "base_uri": "https://localhost:8080/"
    },
    "id": "N2vkdSDVSou1",
    "outputId": "f3622d5a-1fb6-4fee-b636-874969103918"
   },
   "outputs": [],
   "source": [
    "df.columns"
   ]
  },
  {
   "cell_type": "code",
   "execution_count": null,
   "metadata": {
    "colab": {
     "base_uri": "https://localhost:8080/"
    },
    "id": "Et_RpYbNUNM9",
    "outputId": "e40d4305-18a2-478d-f922-427a12b509a8"
   },
   "outputs": [],
   "source": [
    "df.isnull().sum()"
   ]
  },
  {
   "cell_type": "code",
   "execution_count": null,
   "metadata": {
    "colab": {
     "base_uri": "https://localhost:8080/",
     "height": 300
    },
    "id": "hk5RLRXvUSp-",
    "outputId": "cf24a69b-77ea-4051-ae5d-bcdcf1c65bfb"
   },
   "outputs": [],
   "source": [
    "df.describe()"
   ]
  },
  {
   "cell_type": "code",
   "execution_count": null,
   "metadata": {
    "colab": {
     "base_uri": "https://localhost:8080/"
    },
    "id": "LUmV8_HHUaKm",
    "outputId": "411f8376-858b-4e4d-d595-0834854fef65"
   },
   "outputs": [],
   "source": [
    "df['Reading score']"
   ]
  },
  {
   "cell_type": "code",
   "execution_count": null,
   "metadata": {
    "colab": {
     "base_uri": "https://localhost:8080/"
    },
    "id": "JfgfeJyTUkJ9",
    "outputId": "85bc6c93-aa5c-4488-82aa-11d6fbdc130a"
   },
   "outputs": [],
   "source": [
    "df[df['Reading score'].isnull()].index.tolist()"
   ]
  },
  {
   "cell_type": "code",
   "execution_count": null,
   "metadata": {
    "id": "LKCo6W44U_pP"
   },
   "outputs": [],
   "source": [
    "df['Reading_score']=df['Reading score'].fillna(60)"
   ]
  },
  {
   "cell_type": "code",
   "execution_count": null,
   "metadata": {
    "colab": {
     "base_uri": "https://localhost:8080/"
    },
    "id": "_63nVxTPV2kt",
    "outputId": "bb990eb6-e69c-43ca-e75c-8a18ebd09c72"
   },
   "outputs": [],
   "source": [
    "df['Reading score']"
   ]
  },
  {
   "cell_type": "code",
   "execution_count": null,
   "metadata": {
    "colab": {
     "base_uri": "https://localhost:8080/"
    },
    "id": "McaBYfcxZa3J",
    "outputId": "b2a9b8fa-2542-457e-e860-7f7a343b02a3"
   },
   "outputs": [],
   "source": [
    "df['Reading score'].notnull().sum()"
   ]
  },
  {
   "cell_type": "code",
   "execution_count": null,
   "metadata": {
    "colab": {
     "base_uri": "https://localhost:8080/"
    },
    "id": "J2f0auYoaKBA",
    "outputId": "09404300-9efd-448a-ed67-90ce95fe5420"
   },
   "outputs": [],
   "source": [
    "df[df['Math score'].isnull()].index.tolist()"
   ]
  },
  {
   "cell_type": "code",
   "execution_count": null,
   "metadata": {
    "id": "bvTm9W9pamyJ"
   },
   "outputs": [],
   "source": [
    "df['Math score']=df['Math score'].fillna(df['Math score'].mean())"
   ]
  },
  {
   "cell_type": "code",
   "execution_count": null,
   "metadata": {
    "colab": {
     "base_uri": "https://localhost:8080/"
    },
    "id": "yrYz569-bNWo",
    "outputId": "f191f89b-1f70-4cd7-9330-927c52c7af14"
   },
   "outputs": [],
   "source": [
    "df['Math score'].isnull().sum()"
   ]
  },
  {
   "cell_type": "code",
   "execution_count": null,
   "metadata": {
    "colab": {
     "base_uri": "https://localhost:8080/"
    },
    "id": "eljNLjmebgld",
    "outputId": "f789931e-333f-4cba-ab43-b1d7ddf32e18"
   },
   "outputs": [],
   "source": [
    "df.isnull().sum()"
   ]
  },
  {
   "cell_type": "code",
   "execution_count": null,
   "metadata": {
    "colab": {
     "base_uri": "https://localhost:8080/"
    },
    "id": "dm8WG93Sboom",
    "outputId": "2f27520a-7454-4d1b-b7bb-e0fe9d1281c7"
   },
   "outputs": [],
   "source": [
    "df[df['Math score'].isnull()].index.tolist()"
   ]
  },
  {
   "cell_type": "code",
   "execution_count": null,
   "metadata": {
    "colab": {
     "base_uri": "https://localhost:8080/"
    },
    "id": "0-6PpErxcCN2",
    "outputId": "54a3c3cb-34f3-499e-cb72-eaa55657758a"
   },
   "outputs": [],
   "source": [
    "df[df['Reading score'].isnull()].index.tolist()"
   ]
  },
  {
   "cell_type": "code",
   "execution_count": null,
   "metadata": {
    "id": "N4duie-ycJyW"
   },
   "outputs": [],
   "source": [
    "import numpy as np"
   ]
  },
  {
   "cell_type": "code",
   "execution_count": null,
   "metadata": {
    "colab": {
     "base_uri": "https://localhost:8080/",
     "height": 520
    },
    "id": "1ww2us0HcxIG",
    "outputId": "fc717859-15ab-427e-b31a-3c8c078ca6bd"
   },
   "outputs": [],
   "source": [
    "df.replace(to_replace = np.nan, value = 80)"
   ]
  },
  {
   "cell_type": "code",
   "execution_count": null,
   "metadata": {
    "colab": {
     "base_uri": "https://localhost:8080/"
    },
    "id": "tU5NVAbaczaN",
    "outputId": "5db4d930-e7cb-4c13-ca68-fe0126f1b0f2"
   },
   "outputs": [],
   "source": [
    "df2.isnull().sum()"
   ]
  },
  {
   "cell_type": "markdown",
   "metadata": {
    "id": "JPi1X4MYegmD"
   },
   "source": [
    "## Deleting null values using dropna() method"
   ]
  },
  {
   "cell_type": "code",
   "execution_count": null,
   "metadata": {
    "colab": {
     "base_uri": "https://localhost:8080/"
    },
    "id": "kuZXOYFnfQJO",
    "outputId": "7265930e-a308-4ed2-e083-20e925f67011"
   },
   "outputs": [],
   "source": [
    "df3.isnull().sum()"
   ]
  },
  {
   "cell_type": "code",
   "execution_count": null,
   "metadata": {
    "colab": {
     "base_uri": "https://localhost:8080/"
    },
    "id": "vor8EOBsfXP3",
    "outputId": "00e23341-0417-4a2b-824a-e6627f27a49c"
   },
   "outputs": [],
   "source": [
    "df3[df3['Math score'].isnull()].index.tolist()"
   ]
  },
  {
   "cell_type": "code",
   "execution_count": null,
   "metadata": {
    "colab": {
     "base_uri": "https://localhost:8080/"
    },
    "id": "PX3qKDvLfpPu",
    "outputId": "bf85a019-bffd-48b5-a2e4-1b03f368d630"
   },
   "outputs": [],
   "source": [
    "df3[df3['Reading score'].isnull()].index.tolist()"
   ]
  },
  {
   "cell_type": "code",
   "execution_count": null,
   "metadata": {
    "colab": {
     "base_uri": "https://localhost:8080/",
     "height": 363
    },
    "id": "o2FCpIp-f4Im",
    "outputId": "50a808cc-e486-4289-8c9d-310650374e1b"
   },
   "outputs": [],
   "source": [
    "#To drop rows with at Least 1 null value\n",
    "df3.dropna()"
   ]
  },
  {
   "cell_type": "code",
   "execution_count": null,
   "metadata": {
    "colab": {
     "base_uri": "https://localhost:8080/",
     "height": 520
    },
    "id": "88cXeX_SgMRW",
    "outputId": "ee223f6b-572e-4524-8985-b9d7456a80bf"
   },
   "outputs": [],
   "source": [
    "#To Drop columns with at Least 1 null value,\n",
    "df4.dropna(axis = 1)"
   ]
  },
  {
   "cell_type": "markdown",
   "metadata": {
    "id": "mL4_XXGjq7KP"
   },
   "source": [
    "Handling **Outliers**"
   ]
  },
  {
   "cell_type": "markdown",
   "metadata": {
    "id": "DGSkFZd0rB7f"
   },
   "source": [
    "1.Detecting outliers using Boxplot:\n",
    "\n"
   ]
  },
  {
   "cell_type": "code",
   "execution_count": null,
   "metadata": {
    "colab": {
     "base_uri": "https://localhost:8080/"
    },
    "id": "vQq4D6Nxqn6P",
    "outputId": "70e8a832-edb9-4e81-d729-8a5d1869f0d7"
   },
   "outputs": [],
   "source": [
    "df.columns"
   ]
  },
  {
   "cell_type": "code",
   "execution_count": null,
   "metadata": {
    "id": "GWVcV4I8qxRX"
   },
   "outputs": [],
   "source": [
    "col=['Gender','Math score','Reading score','Writing score','Placement score','Placement offer count']"
   ]
  },
  {
   "cell_type": "code",
   "execution_count": null,
   "metadata": {
    "id": "LXjncjBlq1af"
   },
   "outputs": [],
   "source": [
    "import matplotlib.pyplot as plt\n",
    "%matplotlib inline"
   ]
  },
  {
   "cell_type": "code",
   "execution_count": null,
   "metadata": {
    "colab": {
     "base_uri": "https://localhost:8080/",
     "height": 445
    },
    "id": "o4dxAsrFrJGw",
    "outputId": "e5b6bada-c032-40d6-b3c3-62f7aae0fc3f"
   },
   "outputs": [],
   "source": [
    "plt.figure(figsize=(10,7))\n",
    "df.boxplot(col)"
   ]
  },
  {
   "cell_type": "code",
   "execution_count": null,
   "metadata": {
    "colab": {
     "base_uri": "https://localhost:8080/",
     "height": 1000
    },
    "id": "RdMNgjD7QUwN",
    "outputId": "82441ce5-6ad5-4cb5-f113-78d384ff0136"
   },
   "outputs": [],
   "source": [
    "for column in df:\n",
    "  plt.figure()\n",
    "  df.boxplot([column])\n",
    "\n",
    "\n",
    " "
   ]
  },
  {
   "cell_type": "code",
   "execution_count": null,
   "metadata": {
    "id": "ONuZT6hCUBXG"
   },
   "outputs": [],
   "source": [
    "import seaborn as sns"
   ]
  },
  {
   "cell_type": "code",
   "execution_count": null,
   "metadata": {
    "colab": {
     "base_uri": "https://localhost:8080/",
     "height": 1000
    },
    "id": "7xxMr40oWT9b",
    "outputId": "cbc979a4-37b4-4cbf-934f-3eaa501bfce1"
   },
   "outputs": [],
   "source": [
    " for column in df:\n",
    "            plt.figure(figsize=(7,5))\n",
    "            sns.boxplot(data=df, y=column)"
   ]
  },
  {
   "cell_type": "code",
   "execution_count": null,
   "metadata": {
    "colab": {
     "base_uri": "https://localhost:8080/"
    },
    "id": "F5SzZZqUXsIL",
    "outputId": "93ae20ad-7c45-46ba-dee4-e0a02ccaee44"
   },
   "outputs": [],
   "source": [
    "print(np.where(df[\"Math score\"]>80))\n"
   ]
  },
  {
   "cell_type": "code",
   "execution_count": null,
   "metadata": {
    "colab": {
     "base_uri": "https://localhost:8080/"
    },
    "id": "reD24Uobgs_K",
    "outputId": "a73849ec-0c48-4940-b584-3e4b69b5ab1a"
   },
   "outputs": [],
   "source": [
    "print(np.where(df[\"Reading score\"]>90))"
   ]
  },
  {
   "cell_type": "code",
   "execution_count": null,
   "metadata": {
    "colab": {
     "base_uri": "https://localhost:8080/"
    },
    "id": "qQZa7M6YhQz6",
    "outputId": "eebbdae3-cd40-4da5-ace2-48ef692ab665"
   },
   "outputs": [],
   "source": [
    "print(np.where(df[\"Writing score\"]<40))"
   ]
  },
  {
   "cell_type": "markdown",
   "metadata": {
    "id": "H8BmNaACh0GI"
   },
   "source": [
    "**2 Detecting outliers using Scatterplot:**"
   ]
  },
  {
   "cell_type": "code",
   "execution_count": null,
   "metadata": {
    "colab": {
     "base_uri": "https://localhost:8080/",
     "height": 265
    },
    "id": "z8bCQQ8qjGZR",
    "outputId": "5d27329a-6931-4ebc-bdd9-6baf8fb502af"
   },
   "outputs": [],
   "source": [
    "#ax = plt.subplots(figsize = (18,10))\n",
    "plt.scatter(df['Math score'], df['Placement offer count'])\n",
    "plt.show()"
   ]
  },
  {
   "cell_type": "code",
   "execution_count": null,
   "metadata": {
    "colab": {
     "base_uri": "https://localhost:8080/"
    },
    "id": "joxvwN6Sjnpo",
    "outputId": "c451cbcd-d5fb-40b9-ab94-493c1cbbb67a"
   },
   "outputs": [],
   "source": [
    "df.columns"
   ]
  },
  {
   "cell_type": "code",
   "execution_count": null,
   "metadata": {
    "colab": {
     "base_uri": "https://localhost:8080/",
     "height": 265
    },
    "id": "rMe4Kjm_jsII",
    "outputId": "e077ec12-440e-4493-cba2-6a8082db8469"
   },
   "outputs": [],
   "source": [
    "plt.scatter(df['Placement score'],df['Placement offer count'],c='yellow',linewidths = 2,marker = '.',edgecolor ='red',s = 50)\n",
    "plt.xlabel=(\"Placement score\")\n",
    "plt.ylabel=(\"Placement offer count \")\n",
    "plt.show()"
   ]
  },
  {
   "cell_type": "code",
   "execution_count": null,
   "metadata": {
    "colab": {
     "base_uri": "https://localhost:8080/",
     "height": 265
    },
    "id": "XUq9bgnqlyX6",
    "outputId": "4ee01cb4-85a2-46b4-c956-6c1c8d9dc87b"
   },
   "outputs": [],
   "source": [
    "plt.scatter(x=df['Math score'],y=df['Placement score'],c='blue',linewidths = 2,marker ='^',edgecolor = 'green',s = 80)\n",
    "plt.show()"
   ]
  },
  {
   "cell_type": "code",
   "execution_count": null,
   "metadata": {
    "id": "sV8z1hZjm7Zp"
   },
   "outputs": [],
   "source": [
    "plt.figure()\n",
    "df.plot.scatter(x ='Placement score',y = 'Placement offer count',c ='Gender',)"
   ]
  }
 ],
 "metadata": {
  "colab": {
   "provenance": []
  },
  "kernelspec": {
   "display_name": "Python 3 (ipykernel)",
   "language": "python",
   "name": "python3"
  },
  "language_info": {
   "codemirror_mode": {
    "name": "ipython",
    "version": 3
   },
   "file_extension": ".py",
   "mimetype": "text/x-python",
   "name": "python",
   "nbconvert_exporter": "python",
   "pygments_lexer": "ipython3",
   "version": "3.9.13"
  }
 },
 "nbformat": 4,
 "nbformat_minor": 1
}
