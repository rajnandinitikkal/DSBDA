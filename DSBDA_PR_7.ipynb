{
 "cells": [
  {
   "cell_type": "markdown",
   "id": "4c14c805",
   "metadata": {},
   "source": [
    "### Part 1"
   ]
  },
  {
   "cell_type": "markdown",
   "id": "f5ba1705",
   "metadata": {},
   "source": [
    "### Download the required packages"
   ]
  },
  {
   "cell_type": "code",
   "execution_count": 74,
   "id": "b20bed21",
   "metadata": {},
   "outputs": [
    {
     "name": "stderr",
     "output_type": "stream",
     "text": [
      "[nltk_data] Downloading package punkt to\n",
      "[nltk_data]     C:\\Users\\coeco\\AppData\\Roaming\\nltk_data...\n",
      "[nltk_data]   Package punkt is already up-to-date!\n",
      "[nltk_data] Downloading package stopwords to\n",
      "[nltk_data]     C:\\Users\\coeco\\AppData\\Roaming\\nltk_data...\n",
      "[nltk_data]   Package stopwords is already up-to-date!\n",
      "[nltk_data] Downloading package wordnet to\n",
      "[nltk_data]     C:\\Users\\coeco\\AppData\\Roaming\\nltk_data...\n",
      "[nltk_data]   Package wordnet is already up-to-date!\n",
      "[nltk_data] Downloading package averaged_perceptron_tagger to\n",
      "[nltk_data]     C:\\Users\\coeco\\AppData\\Roaming\\nltk_data...\n",
      "[nltk_data]   Package averaged_perceptron_tagger is already up-to-\n",
      "[nltk_data]       date!\n"
     ]
    },
    {
     "data": {
      "text/plain": [
       "True"
      ]
     },
     "execution_count": 74,
     "metadata": {},
     "output_type": "execute_result"
    }
   ],
   "source": [
    "import nltk\n",
    "nltk.download('punkt')\n",
    "nltk.download('stopwords')\n",
    "nltk.download('wordnet')\n",
    "nltk.download('averaged_perceptron_tagger')"
   ]
  },
  {
   "cell_type": "markdown",
   "id": "6495a1b8",
   "metadata": {},
   "source": [
    "### Intialize the text"
   ]
  },
  {
   "cell_type": "code",
   "execution_count": 75,
   "id": "aca74992",
   "metadata": {},
   "outputs": [
    {
     "data": {
      "text/plain": [
       "['Tokenization is the first step in text analytics.',\n",
       " 'The process of breaking down a text paragraph into smaller chunks such as words or sentences is called Tokenization']"
      ]
     },
     "execution_count": 75,
     "metadata": {},
     "output_type": "execute_result"
    }
   ],
   "source": [
    "text =  \"Tokenization is the first step in text analytics. The process of breaking down a text paragraph into smaller chunks such as words or sentences is called Tokenization\"\n",
    "\n",
    "from nltk.tokenize import sent_tokenize\n",
    "tokenized_text = sent_tokenize(text)\n",
    "tokenized_text"
   ]
  },
  {
   "cell_type": "markdown",
   "id": "c01f7113",
   "metadata": {},
   "source": [
    "### Perform Tokenization"
   ]
  },
  {
   "cell_type": "code",
   "execution_count": 76,
   "id": "4b7947ec",
   "metadata": {},
   "outputs": [
    {
     "data": {
      "text/plain": [
       "['Tokenization',\n",
       " 'is',\n",
       " 'the',\n",
       " 'first',\n",
       " 'step',\n",
       " 'in',\n",
       " 'text',\n",
       " 'analytics',\n",
       " '.',\n",
       " 'The',\n",
       " 'process',\n",
       " 'of',\n",
       " 'breaking',\n",
       " 'down',\n",
       " 'a',\n",
       " 'text',\n",
       " 'paragraph',\n",
       " 'into',\n",
       " 'smaller',\n",
       " 'chunks',\n",
       " 'such',\n",
       " 'as',\n",
       " 'words',\n",
       " 'or',\n",
       " 'sentences',\n",
       " 'is',\n",
       " 'called',\n",
       " 'Tokenization']"
      ]
     },
     "execution_count": 76,
     "metadata": {},
     "output_type": "execute_result"
    }
   ],
   "source": [
    "from nltk.tokenize import word_tokenize\n",
    "tokenized_word = word_tokenize(text)\n",
    "tokenized_word"
   ]
  },
  {
   "cell_type": "markdown",
   "id": "e9325f54",
   "metadata": {},
   "source": [
    "### Removing punctuations and Stop Word"
   ]
  },
  {
   "cell_type": "code",
   "execution_count": 77,
   "id": "3406159f",
   "metadata": {},
   "outputs": [],
   "source": [
    "from nltk.corpus import stopwords\n",
    "stop_words = set(stopwords.words(\"english\"))"
   ]
  },
  {
   "cell_type": "code",
   "execution_count": 78,
   "id": "8ee444bc",
   "metadata": {},
   "outputs": [
    {
     "data": {
      "text/plain": [
       "{'a',\n",
       " 'about',\n",
       " 'above',\n",
       " 'after',\n",
       " 'again',\n",
       " 'against',\n",
       " 'ain',\n",
       " 'all',\n",
       " 'am',\n",
       " 'an',\n",
       " 'and',\n",
       " 'any',\n",
       " 'are',\n",
       " 'aren',\n",
       " \"aren't\",\n",
       " 'as',\n",
       " 'at',\n",
       " 'be',\n",
       " 'because',\n",
       " 'been',\n",
       " 'before',\n",
       " 'being',\n",
       " 'below',\n",
       " 'between',\n",
       " 'both',\n",
       " 'but',\n",
       " 'by',\n",
       " 'can',\n",
       " 'couldn',\n",
       " \"couldn't\",\n",
       " 'd',\n",
       " 'did',\n",
       " 'didn',\n",
       " \"didn't\",\n",
       " 'do',\n",
       " 'does',\n",
       " 'doesn',\n",
       " \"doesn't\",\n",
       " 'doing',\n",
       " 'don',\n",
       " \"don't\",\n",
       " 'down',\n",
       " 'during',\n",
       " 'each',\n",
       " 'few',\n",
       " 'for',\n",
       " 'from',\n",
       " 'further',\n",
       " 'had',\n",
       " 'hadn',\n",
       " \"hadn't\",\n",
       " 'has',\n",
       " 'hasn',\n",
       " \"hasn't\",\n",
       " 'have',\n",
       " 'haven',\n",
       " \"haven't\",\n",
       " 'having',\n",
       " 'he',\n",
       " 'her',\n",
       " 'here',\n",
       " 'hers',\n",
       " 'herself',\n",
       " 'him',\n",
       " 'himself',\n",
       " 'his',\n",
       " 'how',\n",
       " 'i',\n",
       " 'if',\n",
       " 'in',\n",
       " 'into',\n",
       " 'is',\n",
       " 'isn',\n",
       " \"isn't\",\n",
       " 'it',\n",
       " \"it's\",\n",
       " 'its',\n",
       " 'itself',\n",
       " 'just',\n",
       " 'll',\n",
       " 'm',\n",
       " 'ma',\n",
       " 'me',\n",
       " 'mightn',\n",
       " \"mightn't\",\n",
       " 'more',\n",
       " 'most',\n",
       " 'mustn',\n",
       " \"mustn't\",\n",
       " 'my',\n",
       " 'myself',\n",
       " 'needn',\n",
       " \"needn't\",\n",
       " 'no',\n",
       " 'nor',\n",
       " 'not',\n",
       " 'now',\n",
       " 'o',\n",
       " 'of',\n",
       " 'off',\n",
       " 'on',\n",
       " 'once',\n",
       " 'only',\n",
       " 'or',\n",
       " 'other',\n",
       " 'our',\n",
       " 'ours',\n",
       " 'ourselves',\n",
       " 'out',\n",
       " 'over',\n",
       " 'own',\n",
       " 're',\n",
       " 's',\n",
       " 'same',\n",
       " 'shan',\n",
       " \"shan't\",\n",
       " 'she',\n",
       " \"she's\",\n",
       " 'should',\n",
       " \"should've\",\n",
       " 'shouldn',\n",
       " \"shouldn't\",\n",
       " 'so',\n",
       " 'some',\n",
       " 'such',\n",
       " 't',\n",
       " 'than',\n",
       " 'that',\n",
       " \"that'll\",\n",
       " 'the',\n",
       " 'their',\n",
       " 'theirs',\n",
       " 'them',\n",
       " 'themselves',\n",
       " 'then',\n",
       " 'there',\n",
       " 'these',\n",
       " 'they',\n",
       " 'this',\n",
       " 'those',\n",
       " 'through',\n",
       " 'to',\n",
       " 'too',\n",
       " 'under',\n",
       " 'until',\n",
       " 'up',\n",
       " 've',\n",
       " 'very',\n",
       " 'was',\n",
       " 'wasn',\n",
       " \"wasn't\",\n",
       " 'we',\n",
       " 'were',\n",
       " 'weren',\n",
       " \"weren't\",\n",
       " 'what',\n",
       " 'when',\n",
       " 'where',\n",
       " 'which',\n",
       " 'while',\n",
       " 'who',\n",
       " 'whom',\n",
       " 'why',\n",
       " 'will',\n",
       " 'with',\n",
       " 'won',\n",
       " \"won't\",\n",
       " 'wouldn',\n",
       " \"wouldn't\",\n",
       " 'y',\n",
       " 'you',\n",
       " \"you'd\",\n",
       " \"you'll\",\n",
       " \"you're\",\n",
       " \"you've\",\n",
       " 'your',\n",
       " 'yours',\n",
       " 'yourself',\n",
       " 'yourselves'}"
      ]
     },
     "execution_count": 78,
     "metadata": {},
     "output_type": "execute_result"
    }
   ],
   "source": [
    "stop_words"
   ]
  },
  {
   "cell_type": "code",
   "execution_count": 79,
   "id": "a458f22e",
   "metadata": {},
   "outputs": [
    {
     "data": {
      "text/plain": [
       "' How to remove stop words with NLTK library in python '"
      ]
     },
     "execution_count": 79,
     "metadata": {},
     "output_type": "execute_result"
    }
   ],
   "source": [
    "text = \" How to remove stop words with NLTK library in python?\"\n",
    "import re\n",
    "text = re.sub('[^a-zA-Z]', ' ',text)\n",
    "text\n"
   ]
  },
  {
   "cell_type": "code",
   "execution_count": 80,
   "id": "1756a74e",
   "metadata": {},
   "outputs": [
    {
     "data": {
      "text/plain": [
       "['how',\n",
       " 'to',\n",
       " 'remove',\n",
       " 'stop',\n",
       " 'words',\n",
       " 'with',\n",
       " 'nltk',\n",
       " 'library',\n",
       " 'in',\n",
       " 'python']"
      ]
     },
     "execution_count": 80,
     "metadata": {},
     "output_type": "execute_result"
    }
   ],
   "source": [
    "tokens = word_tokenize(text.lower())\n",
    "tokens"
   ]
  },
  {
   "cell_type": "code",
   "execution_count": 81,
   "id": "c4682ea4",
   "metadata": {},
   "outputs": [],
   "source": [
    "filtered_text=[]\n",
    "for w in tokens:\n",
    "     if w not in stop_words:\n",
    "            filtered_text.append(w)"
   ]
  },
  {
   "cell_type": "code",
   "execution_count": 82,
   "id": "0087b2dd",
   "metadata": {},
   "outputs": [
    {
     "data": {
      "text/plain": [
       "['remove', 'stop', 'words', 'nltk', 'library', 'python']"
      ]
     },
     "execution_count": 82,
     "metadata": {},
     "output_type": "execute_result"
    }
   ],
   "source": [
    "filtered_text"
   ]
  },
  {
   "cell_type": "markdown",
   "id": "5f7fb394",
   "metadata": {},
   "source": [
    "### Perform Stemming"
   ]
  },
  {
   "cell_type": "code",
   "execution_count": 83,
   "id": "480d8fe6",
   "metadata": {},
   "outputs": [
    {
     "name": "stdout",
     "output_type": "stream",
     "text": [
      "wait\n",
      "wait\n",
      "wait\n"
     ]
    }
   ],
   "source": [
    "from nltk.stem import PorterStemmer\n",
    "e_words = [\"wait\",\"waiting\",\"waited\"]\n",
    "ps = PorterStemmer()\n",
    "for w in e_words:\n",
    "    rootWord = ps.stem(w)\n",
    "    print(rootWord)\n"
   ]
  },
  {
   "cell_type": "code",
   "execution_count": 84,
   "id": "75a20609",
   "metadata": {},
   "outputs": [
    {
     "name": "stdout",
     "output_type": "stream",
     "text": [
      "studi\n",
      "studi\n",
      "cri\n",
      "cri\n"
     ]
    }
   ],
   "source": [
    "from nltk.stem import PorterStemmer\n",
    "e_words = [\"studies\",\"studying\", \"cries\",\"cry\"]\n",
    "ps = PorterStemmer()\n",
    "for w in e_words:\n",
    "    rootWord = ps.stem(w)\n",
    "    print(rootWord)"
   ]
  },
  {
   "cell_type": "markdown",
   "id": "722e14a2",
   "metadata": {},
   "source": [
    "### Perform Lemmatization"
   ]
  },
  {
   "cell_type": "code",
   "execution_count": 85,
   "id": "e071d22b",
   "metadata": {},
   "outputs": [
    {
     "name": "stdout",
     "output_type": "stream",
     "text": [
      "Lemma for studies is study\n",
      "Lemma for studying is studying\n",
      "Lemma for cries is cry\n",
      "Lemma for cry is cry\n"
     ]
    }
   ],
   "source": [
    "import nltk\n",
    "from nltk.stem import WordNetLemmatizer\n",
    "wordnet_lemmatizer = WordNetLemmatizer()\n",
    "text = \"studies studying cries cry\"\n",
    "tokenization = nltk.word_tokenize(text)\n",
    "for w in tokenization:\n",
    "    print(\"Lemma for {} is {}\".format(w,wordnet_lemmatizer.lemmatize(w)))"
   ]
  },
  {
   "cell_type": "markdown",
   "id": "10c213bc",
   "metadata": {},
   "source": [
    "### Apply POS Tagging to text "
   ]
  },
  {
   "cell_type": "code",
   "execution_count": 86,
   "id": "a74983f2",
   "metadata": {},
   "outputs": [
    {
     "name": "stdout",
     "output_type": "stream",
     "text": [
      "[('The', 'DT')]\n",
      "[('pink', 'NN')]\n",
      "[('sweater', 'NN')]\n",
      "[('fits', 'NNS')]\n",
      "[('her', 'PRP$')]\n",
      "[('perfectly', 'RB')]\n"
     ]
    }
   ],
   "source": [
    "import nltk\n",
    "from nltk.tokenize import word_tokenize\n",
    "data = \"The pink sweater fits her perfectly\"\n",
    "words = word_tokenize(data)\n",
    "for word in words:\n",
    "    print(nltk.pos_tag([word]))"
   ]
  },
  {
   "cell_type": "markdown",
   "id": "ca9b4a07",
   "metadata": {},
   "source": [
    "### Part 2"
   ]
  },
  {
   "cell_type": "markdown",
   "id": "35004866",
   "metadata": {},
   "source": [
    "### Import the necessary libraries "
   ]
  },
  {
   "cell_type": "code",
   "execution_count": 87,
   "id": "2272e518",
   "metadata": {},
   "outputs": [],
   "source": [
    "import pandas as pd\n",
    "from sklearn.feature_extraction.text import TfidfVectorizer"
   ]
  },
  {
   "cell_type": "markdown",
   "id": "40ec762f",
   "metadata": {},
   "source": [
    "### Intialize the Document"
   ]
  },
  {
   "cell_type": "code",
   "execution_count": 88,
   "id": "b74993e7",
   "metadata": {},
   "outputs": [],
   "source": [
    "documentA = 'Jupiter is the largest Planet'\n",
    "documentB = 'Mars is the fourth planet from the sun'"
   ]
  },
  {
   "cell_type": "markdown",
   "id": "4f2c11d9",
   "metadata": {},
   "source": [
    "### Create BagofWords(BoW) for document A & B"
   ]
  },
  {
   "cell_type": "code",
   "execution_count": 89,
   "id": "e29c3a55",
   "metadata": {},
   "outputs": [],
   "source": [
    "bagofWordsA = documentA.split(' ')\n",
    "bagofWordsB = documentB.split(' ')"
   ]
  },
  {
   "cell_type": "markdown",
   "id": "98004f97",
   "metadata": {},
   "source": [
    "### Create collection of Unique words from Document A & B"
   ]
  },
  {
   "cell_type": "code",
   "execution_count": 90,
   "id": "3a894021",
   "metadata": {},
   "outputs": [],
   "source": [
    "uniqueWords = set(bagofWordsA).union(bagofWordsB)"
   ]
  },
  {
   "cell_type": "code",
   "execution_count": 91,
   "id": "090dc57a",
   "metadata": {},
   "outputs": [
    {
     "data": {
      "text/plain": [
       "{'Jupiter',\n",
       " 'Mars',\n",
       " 'Planet',\n",
       " 'fourth',\n",
       " 'from',\n",
       " 'is',\n",
       " 'largest',\n",
       " 'planet',\n",
       " 'sun',\n",
       " 'the'}"
      ]
     },
     "execution_count": 91,
     "metadata": {},
     "output_type": "execute_result"
    }
   ],
   "source": [
    "uniqueWords"
   ]
  },
  {
   "cell_type": "markdown",
   "id": "bf5e4f86",
   "metadata": {},
   "source": [
    "### Create a dictionary of words and their occurrence for each document in the corpus"
   ]
  },
  {
   "cell_type": "code",
   "execution_count": 92,
   "id": "de45272a",
   "metadata": {},
   "outputs": [],
   "source": [
    "numofWordsA = dict.fromkeys(uniqueWords,0)\n",
    "for word in bagofWordsA:\n",
    "     numofWordsA[word] += 1\n",
    "        "
   ]
  },
  {
   "cell_type": "code",
   "execution_count": 93,
   "id": "4d6e38a5",
   "metadata": {},
   "outputs": [
    {
     "data": {
      "text/plain": [
       "{'from': 0,\n",
       " 'Planet': 1,\n",
       " 'Mars': 0,\n",
       " 'fourth': 0,\n",
       " 'planet': 0,\n",
       " 'the': 1,\n",
       " 'is': 1,\n",
       " 'Jupiter': 1,\n",
       " 'sun': 0,\n",
       " 'largest': 1}"
      ]
     },
     "execution_count": 93,
     "metadata": {},
     "output_type": "execute_result"
    }
   ],
   "source": [
    "numofWordsA"
   ]
  },
  {
   "cell_type": "code",
   "execution_count": 94,
   "id": "8deaf046",
   "metadata": {},
   "outputs": [],
   "source": [
    "numofWordsB = dict.fromkeys(uniqueWords,0)\n",
    "for word in bagofWordsB:\n",
    "     numofWordsB[word] += 1"
   ]
  },
  {
   "cell_type": "code",
   "execution_count": 95,
   "id": "b19d89b4",
   "metadata": {},
   "outputs": [
    {
     "data": {
      "text/plain": [
       "{'from': 1,\n",
       " 'Planet': 0,\n",
       " 'Mars': 1,\n",
       " 'fourth': 1,\n",
       " 'planet': 1,\n",
       " 'the': 2,\n",
       " 'is': 1,\n",
       " 'Jupiter': 0,\n",
       " 'sun': 1,\n",
       " 'largest': 0}"
      ]
     },
     "execution_count": 95,
     "metadata": {},
     "output_type": "execute_result"
    }
   ],
   "source": [
    " numofWordsB"
   ]
  },
  {
   "cell_type": "markdown",
   "id": "d6bf48aa",
   "metadata": {},
   "source": [
    "### Compute the term frequency for each of our documents"
   ]
  },
  {
   "cell_type": "code",
   "execution_count": 96,
   "id": "957e0f74",
   "metadata": {},
   "outputs": [],
   "source": [
    "def computeTF(wordDict,bagofWords):\n",
    "    TfDict = {}\n",
    "    bagofWordsCount = len(bagofWords)\n",
    "    for word, count in wordDict.items():\n",
    "        TfDict[word] = count/float(bagofWordsCount)\n",
    "    return TfDict"
   ]
  },
  {
   "cell_type": "code",
   "execution_count": 97,
   "id": "b103e31f",
   "metadata": {},
   "outputs": [],
   "source": [
    "tfA = computeTF(numofWordsA,bagofWordsA)\n",
    "tfB = computeTF(numofWordsA,bagofWordsB)"
   ]
  },
  {
   "cell_type": "code",
   "execution_count": 98,
   "id": "e85b764d",
   "metadata": {},
   "outputs": [
    {
     "data": {
      "text/plain": [
       "{'from': 0.0,\n",
       " 'Planet': 0.2,\n",
       " 'Mars': 0.0,\n",
       " 'fourth': 0.0,\n",
       " 'planet': 0.0,\n",
       " 'the': 0.2,\n",
       " 'is': 0.2,\n",
       " 'Jupiter': 0.2,\n",
       " 'sun': 0.0,\n",
       " 'largest': 0.2}"
      ]
     },
     "execution_count": 98,
     "metadata": {},
     "output_type": "execute_result"
    }
   ],
   "source": [
    "tfA"
   ]
  },
  {
   "cell_type": "code",
   "execution_count": 99,
   "id": "99daa8c1",
   "metadata": {},
   "outputs": [
    {
     "data": {
      "text/plain": [
       "{'from': 0.0,\n",
       " 'Planet': 0.125,\n",
       " 'Mars': 0.0,\n",
       " 'fourth': 0.0,\n",
       " 'planet': 0.0,\n",
       " 'the': 0.125,\n",
       " 'is': 0.125,\n",
       " 'Jupiter': 0.125,\n",
       " 'sun': 0.0,\n",
       " 'largest': 0.125}"
      ]
     },
     "execution_count": 99,
     "metadata": {},
     "output_type": "execute_result"
    }
   ],
   "source": [
    "tfB"
   ]
  },
  {
   "cell_type": "markdown",
   "id": "086b3e16",
   "metadata": {},
   "source": [
    "### Compute the term Inverse Document Frequency"
   ]
  },
  {
   "cell_type": "code",
   "execution_count": 100,
   "id": "a0cc2b7b",
   "metadata": {},
   "outputs": [],
   "source": [
    "def computeIDF(documents):\n",
    "    import math\n",
    "    N = len(documents)\n",
    "    idfDict=dict.fromkeys(documents[0].keys(),0)\n",
    "    for document in documents:\n",
    "        for word , val in document.items():\n",
    "            if val > 0:\n",
    "                idfDict[word]  += 1\n",
    "    for word,val in idfDict.items():\n",
    "            idfDict[word] = math.log(N/float(val))\n",
    "    return idfDict"
   ]
  },
  {
   "cell_type": "code",
   "execution_count": 101,
   "id": "ed946a49",
   "metadata": {},
   "outputs": [
    {
     "data": {
      "text/plain": [
       "{'from': 0.6931471805599453,\n",
       " 'Planet': 0.6931471805599453,\n",
       " 'Mars': 0.6931471805599453,\n",
       " 'fourth': 0.6931471805599453,\n",
       " 'planet': 0.6931471805599453,\n",
       " 'the': 0.0,\n",
       " 'is': 0.0,\n",
       " 'Jupiter': 0.6931471805599453,\n",
       " 'sun': 0.6931471805599453,\n",
       " 'largest': 0.6931471805599453}"
      ]
     },
     "execution_count": 101,
     "metadata": {},
     "output_type": "execute_result"
    }
   ],
   "source": [
    "idfs = computeIDF([numofWordsA,numofWordsB])\n",
    "idfs"
   ]
  },
  {
   "cell_type": "markdown",
   "id": "9f91f851",
   "metadata": {},
   "source": [
    "### Compute the term TF/IDF for all words"
   ]
  },
  {
   "cell_type": "code",
   "execution_count": 102,
   "id": "c58efc3f",
   "metadata": {},
   "outputs": [],
   "source": [
    "def computeTFIDF(tfBagofWords,idfs):\n",
    "    tfidf ={}\n",
    "    for word,val in tfBagofWords.items():\n",
    "        tfidf[word] =val*idfs[word]\n",
    "    return tfidf\n",
    "        "
   ]
  },
  {
   "cell_type": "code",
   "execution_count": 103,
   "id": "b3e31de7",
   "metadata": {},
   "outputs": [],
   "source": [
    "tfDifA = computeTFIDF(tfA,idfs)"
   ]
  },
  {
   "cell_type": "code",
   "execution_count": 104,
   "id": "47d90552",
   "metadata": {},
   "outputs": [],
   "source": [
    "tfDifB = computeTFIDF(tfA,idfs)"
   ]
  },
  {
   "cell_type": "code",
   "execution_count": 105,
   "id": "bd9c4ca5",
   "metadata": {},
   "outputs": [
    {
     "data": {
      "text/plain": [
       "{'from': 0.0,\n",
       " 'Planet': 0.13862943611198905,\n",
       " 'Mars': 0.0,\n",
       " 'fourth': 0.0,\n",
       " 'planet': 0.0,\n",
       " 'the': 0.0,\n",
       " 'is': 0.0,\n",
       " 'Jupiter': 0.13862943611198905,\n",
       " 'sun': 0.0,\n",
       " 'largest': 0.13862943611198905}"
      ]
     },
     "execution_count": 105,
     "metadata": {},
     "output_type": "execute_result"
    }
   ],
   "source": [
    "tfDifA"
   ]
  },
  {
   "cell_type": "code",
   "execution_count": 106,
   "id": "a463ac07",
   "metadata": {},
   "outputs": [
    {
     "data": {
      "text/plain": [
       "{'from': 0.0,\n",
       " 'Planet': 0.13862943611198905,\n",
       " 'Mars': 0.0,\n",
       " 'fourth': 0.0,\n",
       " 'planet': 0.0,\n",
       " 'the': 0.0,\n",
       " 'is': 0.0,\n",
       " 'Jupiter': 0.13862943611198905,\n",
       " 'sun': 0.0,\n",
       " 'largest': 0.13862943611198905}"
      ]
     },
     "execution_count": 106,
     "metadata": {},
     "output_type": "execute_result"
    }
   ],
   "source": [
    "tfDifB"
   ]
  },
  {
   "cell_type": "code",
   "execution_count": 107,
   "id": "d6a58cb6",
   "metadata": {},
   "outputs": [],
   "source": [
    "df = pd.DataFrame([tfDifA,tfDifB])"
   ]
  },
  {
   "cell_type": "code",
   "execution_count": 108,
   "id": "4f04fc97",
   "metadata": {},
   "outputs": [
    {
     "data": {
      "text/html": [
       "<div>\n",
       "<style scoped>\n",
       "    .dataframe tbody tr th:only-of-type {\n",
       "        vertical-align: middle;\n",
       "    }\n",
       "\n",
       "    .dataframe tbody tr th {\n",
       "        vertical-align: top;\n",
       "    }\n",
       "\n",
       "    .dataframe thead th {\n",
       "        text-align: right;\n",
       "    }\n",
       "</style>\n",
       "<table border=\"1\" class=\"dataframe\">\n",
       "  <thead>\n",
       "    <tr style=\"text-align: right;\">\n",
       "      <th></th>\n",
       "      <th>from</th>\n",
       "      <th>Planet</th>\n",
       "      <th>Mars</th>\n",
       "      <th>fourth</th>\n",
       "      <th>planet</th>\n",
       "      <th>the</th>\n",
       "      <th>is</th>\n",
       "      <th>Jupiter</th>\n",
       "      <th>sun</th>\n",
       "      <th>largest</th>\n",
       "    </tr>\n",
       "  </thead>\n",
       "  <tbody>\n",
       "    <tr>\n",
       "      <th>0</th>\n",
       "      <td>0.0</td>\n",
       "      <td>0.138629</td>\n",
       "      <td>0.0</td>\n",
       "      <td>0.0</td>\n",
       "      <td>0.0</td>\n",
       "      <td>0.0</td>\n",
       "      <td>0.0</td>\n",
       "      <td>0.138629</td>\n",
       "      <td>0.0</td>\n",
       "      <td>0.138629</td>\n",
       "    </tr>\n",
       "    <tr>\n",
       "      <th>1</th>\n",
       "      <td>0.0</td>\n",
       "      <td>0.138629</td>\n",
       "      <td>0.0</td>\n",
       "      <td>0.0</td>\n",
       "      <td>0.0</td>\n",
       "      <td>0.0</td>\n",
       "      <td>0.0</td>\n",
       "      <td>0.138629</td>\n",
       "      <td>0.0</td>\n",
       "      <td>0.138629</td>\n",
       "    </tr>\n",
       "  </tbody>\n",
       "</table>\n",
       "</div>"
      ],
      "text/plain": [
       "   from    Planet  Mars  fourth  planet  the   is   Jupiter  sun   largest\n",
       "0   0.0  0.138629   0.0     0.0     0.0  0.0  0.0  0.138629  0.0  0.138629\n",
       "1   0.0  0.138629   0.0     0.0     0.0  0.0  0.0  0.138629  0.0  0.138629"
      ]
     },
     "execution_count": 108,
     "metadata": {},
     "output_type": "execute_result"
    }
   ],
   "source": [
    "df"
   ]
  }
 ],
 "metadata": {
  "kernelspec": {
   "display_name": "Python 3 (ipykernel)",
   "language": "python",
   "name": "python3"
  },
  "language_info": {
   "codemirror_mode": {
    "name": "ipython",
    "version": 3
   },
   "file_extension": ".py",
   "mimetype": "text/x-python",
   "name": "python",
   "nbconvert_exporter": "python",
   "pygments_lexer": "ipython3",
   "version": "3.9.13"
  }
 },
 "nbformat": 4,
 "nbformat_minor": 5
}
